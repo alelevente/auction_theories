{
 "cells": [
  {
   "cell_type": "markdown",
   "id": "040ad29d-574b-4edc-a51d-6ea83ed30a6f",
   "metadata": {},
   "source": [
    "# **SIA Check (serialized execution)**"
   ]
  },
  {
   "cell_type": "code",
   "execution_count": null,
   "id": "1eca4efe-fb09-4a7d-b3f1-1dbc1e024062",
   "metadata": {},
   "outputs": [],
   "source": [
    "import numpy as np\n",
    "import matplotlib.pyplot as plt\n",
    "\n",
    "from tqdm.notebook import tqdm"
   ]
  },
  {
   "cell_type": "markdown",
   "id": "8d238d0f-ce3c-41dc-8f8a-473f1377e37f",
   "metadata": {
    "tags": []
   },
   "source": [
    "## **Definition of Methods for Auctions**"
   ]
  },
  {
   "cell_type": "code",
   "execution_count": null,
   "id": "42ddb41d-8ed6-41b7-afc6-7fb163f2a58b",
   "metadata": {},
   "outputs": [],
   "source": [
    "class Buyer:\n",
    "    def __init__(self, buyer_id, distances, pv=1000, beta=0.5, pvmax=1000):\n",
    "        self.id = buyer_id\n",
    "        self.state = \"overbid\"\n",
    "        self.pv = pv\n",
    "        self.beta = beta\n",
    "        self.pvmax = pvmax\n",
    "        self.distances = distances\n",
    "        self.prices = {}\n",
    "        \n",
    "    def inform_price(self, auction_id, price):\n",
    "        self.prices[auction_id] = price if price <= self.pv else np.inf\n",
    "        if np.all(np.array(self.prices) == np.inf):\n",
    "            self.state = \"out_of_budget\"\n",
    "        \n",
    "    def compute_costs(self):\n",
    "        prices, distances, id_list = [], [], []\n",
    "        for p in self.distances:\n",
    "            prices.append(self.prices[p])\n",
    "            distances.append(self.distances[p])\n",
    "            id_list.append(p)\n",
    "        prices = np.array(prices)\n",
    "        distances = np.array(distances)\n",
    "        cost = self.beta*prices/self.pvmax + (1-self.beta)*distances/np.max(distances)\n",
    "        return cost, id_list\n",
    "        \n",
    "    def ask_bid(self, auction_id, price):\n",
    "        bids = False\n",
    "        if (self.state == \"overbid\") and (price <= self.pv):\n",
    "            costs, ids = self.compute_costs()\n",
    "            prefs = np.where(costs == costs.min())[0]\n",
    "            pref_ids = []\n",
    "            for p in prefs:\n",
    "                pref_ids.append(ids[p])\n",
    "            bids = auction_id in pref_ids\n",
    "        elif price > self.pv:\n",
    "            self.prices[auction_id] = np.inf\n",
    "        if bids:\n",
    "            self.state = \"winning\"\n",
    "        return bids\n",
    "    \n",
    "    def tell_overbid(self):\n",
    "        self.state = \"overbid\"\n",
    "        \n",
    "    def tell_won(self):\n",
    "        self.state = \"won\""
   ]
  },
  {
   "cell_type": "code",
   "execution_count": null,
   "id": "99da8fb5-307e-4470-9fd1-5bfe6f2c07d5",
   "metadata": {},
   "outputs": [],
   "source": [
    "class Auction:\n",
    "    def __init__(self, id_, starting_price, epsilon=1.0):\n",
    "        self.id = id_\n",
    "        self.price = starting_price\n",
    "        self.buyers = []\n",
    "        self.epsilon = epsilon\n",
    "        self.winner = None\n",
    "        \n",
    "    def add_buyer(self, buyer):\n",
    "        self.buyers.append(buyer)\n",
    "        \n",
    "    def _inform_buyers(self):\n",
    "        for b in self.buyers:\n",
    "            b.inform_price(self.id, self.price)\n",
    "        \n",
    "    def auction_round(self):\n",
    "        bid_received = False\n",
    "        for b in self.buyers:\n",
    "            bids = b.ask_bid(self.id, self.price)\n",
    "            if bids:\n",
    "                if self.winner is not None:\n",
    "                    self.winner.tell_overbid()\n",
    "                self.winner = b\n",
    "                self.price += self.epsilon\n",
    "                self._inform_buyers()\n",
    "                bid_received = True\n",
    "        return bid_received\n",
    "                \n",
    "    def terminate(self):\n",
    "        winner_id = \"\"\n",
    "        if self.winner is not None:\n",
    "            self.winner.tell_won()\n",
    "            winner_id = self.winner.id\n",
    "        return {\"winner\": winner_id,\n",
    "                \"price\" : self.price-self.epsilon}"
   ]
  },
  {
   "cell_type": "code",
   "execution_count": null,
   "id": "df02bf49-1a3d-47ca-8b26-864e9e72df04",
   "metadata": {},
   "outputs": [],
   "source": [
    "def check_terminable(buyers):\n",
    "    non_terminated_buyers = 0\n",
    "    for b in buyers:\n",
    "        if (b.state != \"winning\") and (b.state != \"out_of_budget\"):\n",
    "            non_terminated_buyers += 1\n",
    "    return len(buyers) - non_terminated_buyers\n",
    "\n",
    "def run_auctions_with_prices(auctions, buyers, r_max):\n",
    "    auction_results = {}\n",
    "    auction_prices = []\n",
    "    rs = np.zeros(len(auctions))\n",
    "    \n",
    "    pbar = tqdm(total=len(buyers))\n",
    "    terminables = 0\n",
    "    while np.sum(rs<r_max) and (terminables != len(buyers)):\n",
    "        ap_ = {}\n",
    "        for a in auctions:\n",
    "            ap_[a.id] = a.price\n",
    "        auction_prices.append(ap_)\n",
    "        \n",
    "        pbar.n = terminables\n",
    "        pbar.refresh()\n",
    "        for i, a in enumerate(auctions):\n",
    "            bid_received = a.auction_round()\n",
    "            if bid_received:\n",
    "                rs[i] = 0\n",
    "            else:\n",
    "                rs[i] += 1\n",
    "        terminables = check_terminable(buyers)\n",
    "                \n",
    "    pbar.n = len(auctions)\n",
    "    pbar.refresh()\n",
    "    for a in auctions:\n",
    "        auction_results[a.id] = a.terminate()  \n",
    "    pbar.close()\n",
    "    return auction_results, auction_prices\n",
    "\n",
    "def run_auctions(auctions, buyers, r_max):\n",
    "    auction_results = {}\n",
    "    rs = np.zeros(len(auctions))\n",
    "    \n",
    "    pbar = tqdm(total=len(auctions))\n",
    "    terminables = 0\n",
    "    while np.sum(rs<r_max) and (terminables != len(buyers)):\n",
    "        pbar.n = terminables\n",
    "        pbar.refresh()\n",
    "        for i, a in enumerate(auctions):\n",
    "            bid_received = a.auction_round()\n",
    "            if bid_received:\n",
    "                rs[i] = 0\n",
    "            else:\n",
    "                rs[i] += 1\n",
    "        terminables = check_terminable(buyers)\n",
    "                \n",
    "    pbar.n = len(auctions)\n",
    "    pbar.refresh()\n",
    "    for a in auctions:\n",
    "        auction_results[a.id] = a.terminate()  \n",
    "    pbar.close()\n",
    "    return auction_results"
   ]
  },
  {
   "cell_type": "code",
   "execution_count": null,
   "id": "9ad7e91f-4236-47de-a811-e3f138c58597",
   "metadata": {},
   "outputs": [],
   "source": [
    "def get_won_auctions(auction_results, buyers):\n",
    "    won_auctions = {}\n",
    "    for b in buyers:\n",
    "        for a in auction_results:\n",
    "            if auction_results[a][\"winner\"] == b.id:\n",
    "                won_auctions[b.id] = a\n",
    "    return won_auctions"
   ]
  },
  {
   "cell_type": "code",
   "execution_count": null,
   "id": "1e8a8369-c41b-44a3-a8c9-6b31bbcf1d23",
   "metadata": {},
   "outputs": [],
   "source": [
    "import matplotlib.pyplot as plt\n",
    "\n",
    "def plot_dist_price_results(auction_results, buyers):\n",
    "    won_auctions = get_won_auctions(auction_results, buyers)\n",
    "    distances, prices = [],[]\n",
    "    \n",
    "    for b in buyers:\n",
    "        if b.id in won_auctions:\n",
    "            a_i = won_auctions[b.id]\n",
    "            distances.append(b.distances[a_i])\n",
    "            prices.append(auction_results[a_i][\"price\"])\n",
    "            \n",
    "    fig, ax = plt.subplots(1,1, figsize=(6,4))\n",
    "    ax.scatter(distances, prices, alpha=0.66)\n",
    "    ax.set_xlabel(\"distance [m]\")\n",
    "    ax.set_ylabel(\"price [HUF]\")\n",
    "    return fig, ax\n",
    "\n",
    "def plot_position_price_results(auction_results, buyers, positions, label=\"\"):\n",
    "    won_auctions = get_won_auctions(auction_results, buyers)\n",
    "    distances, prices = [],[]\n",
    "    \n",
    "    for b in buyers:\n",
    "        if b.id in won_auctions:\n",
    "            a_i = won_auctions[b.id]\n",
    "            idx = int(a_i.split(\"_\")[-1])\n",
    "            distances.append(positions[idx])\n",
    "            prices.append(auction_results[a_i][\"price\"])\n",
    "            \n",
    "    fig, ax = plt.subplots(1,1, figsize=(6,3))\n",
    "    ax.scatter(distances, prices, color=\"k\", alpha=0.66, label=label)\n",
    "    ax.set_xlabel(\"position [m]\")\n",
    "    ax.set_ylabel(\"price [¢]\")\n",
    "    return fig, ax\n",
    "\n",
    "def plot_utility(auction_results, buyers, betas, pvmax=1000):\n",
    "    won_auctions = get_won_auctions(auction_results, buyers)\n",
    "    distances, prices = [],[]\n",
    "    \n",
    "    for b in buyers:\n",
    "        if b.id in won_auctions:\n",
    "            a_i = won_auctions[b.id]\n",
    "            distances.append(b.distances[a_i])\n",
    "            prices.append(auction_results[a_i][\"price\"])\n",
    "            \n",
    "    distances = np.array(distances)\n",
    "    prices = np.array(prices)\n",
    "    betas = np.array(betas)\n",
    "    \n",
    "    utilities = 1 - (betas*prices/(pvmax) + (1-betas)*distances/max(distances))\n",
    "            \n",
    "    fig, ax = plt.subplots(1,1, figsize=(6,4))\n",
    "    ax.scatter(distances, utilities, alpha=0.66)\n",
    "    ax.set_xlabel(\"distance [m]\")\n",
    "    ax.set_ylabel(\"utilities\")\n",
    "    return fig, ax"
   ]
  },
  {
   "cell_type": "markdown",
   "id": "f9a6c5c0-d9f2-4ac7-b538-b247ee5f5ed5",
   "metadata": {
    "jp-MarkdownHeadingCollapsed": true,
    "tags": []
   },
   "source": [
    "## **Random setup**"
   ]
  },
  {
   "cell_type": "markdown",
   "id": "4578bece-ad53-4b71-b9f6-e1030e265d8e",
   "metadata": {
    "tags": []
   },
   "source": [
    "### $\\beta=0.5$"
   ]
  },
  {
   "cell_type": "code",
   "execution_count": null,
   "id": "9f0398cd-e477-4816-bf6f-280d112287b8",
   "metadata": {},
   "outputs": [],
   "source": [
    "prices = np.random.randint(0, 400, 100)\n",
    "\n",
    "buyers = []\n",
    "for b_i in range(100):\n",
    "    distance_ = {}\n",
    "    for a_i in range(100):\n",
    "        distance_[f\"a_{a_i}\"] = np.random.randint(0, 5000)\n",
    "    buyers.append(Buyer(f\"b_{b_i}\", distance_))\n",
    "auctions = [Auction(f\"a_{i}\", prices[i]) for i in range(100)]\n",
    "for a in auctions:\n",
    "    for b in buyers:\n",
    "        a.add_buyer(b)\n",
    "        b.inform_price(a.id, a.price)"
   ]
  },
  {
   "cell_type": "code",
   "execution_count": null,
   "id": "ffcf2931-2227-46f6-a630-d4d404dd04cb",
   "metadata": {},
   "outputs": [],
   "source": [
    "results = run_auctions(auctions, buyers, 1001)"
   ]
  },
  {
   "cell_type": "code",
   "execution_count": null,
   "id": "a2504a1c-5533-40a5-b934-13f65559456c",
   "metadata": {},
   "outputs": [],
   "source": [
    "fig, ax = plot_dist_price_results(results, buyers)\n",
    "fig.show()"
   ]
  },
  {
   "cell_type": "code",
   "execution_count": null,
   "id": "6c5a9cf8-af90-49b6-a649-35789f3d3bac",
   "metadata": {},
   "outputs": [],
   "source": [
    "plot_utility(results, buyers, [0.5 for _ in range(100)])"
   ]
  },
  {
   "cell_type": "markdown",
   "id": "d660ae49-83ed-4d6a-a83a-66564af897ae",
   "metadata": {
    "tags": []
   },
   "source": [
    "### $\\beta = 0.1$"
   ]
  },
  {
   "cell_type": "code",
   "execution_count": null,
   "id": "d97db018-ec17-4799-8e90-21eaab6580ce",
   "metadata": {},
   "outputs": [],
   "source": [
    "prices = np.random.randint(0, 400, 100)\n",
    "\n",
    "buyers = []\n",
    "for b_i in range(100):\n",
    "    distance_ = {}\n",
    "    for a_i in range(100):\n",
    "        distance_[f\"a_{a_i}\"] = np.random.randint(0, 5000)\n",
    "    buyers.append(Buyer(f\"b_{b_i}\", distance_, beta=0.1))\n",
    "auctions = [Auction(f\"a_{i}\", prices[i]) for i in range(100)]\n",
    "for a in auctions:\n",
    "    for b in buyers:\n",
    "        a.add_buyer(b)\n",
    "        b.inform_price(a.id, a.price)"
   ]
  },
  {
   "cell_type": "code",
   "execution_count": null,
   "id": "d4216ab0-819f-40c2-9b99-918b3b50f782",
   "metadata": {},
   "outputs": [],
   "source": [
    "%%time\n",
    "\n",
    "results = run_auctions(auctions, buyers, 1001)"
   ]
  },
  {
   "cell_type": "code",
   "execution_count": null,
   "id": "a381c260-4352-465d-81c0-8277e044074e",
   "metadata": {},
   "outputs": [],
   "source": [
    "fig, ax = plot_dist_price_results(results, buyers)\n",
    "fig.show()"
   ]
  },
  {
   "cell_type": "code",
   "execution_count": null,
   "id": "4e64f8ed-1276-471a-9a43-76e44dce6563",
   "metadata": {},
   "outputs": [],
   "source": [
    "plot_utility(results, buyers, [0.1 for _ in range(100)])"
   ]
  },
  {
   "cell_type": "markdown",
   "id": "536f9dd1-4cd1-47a0-be4c-c4822be62a38",
   "metadata": {
    "tags": []
   },
   "source": [
    "### $\\beta = 0.9$"
   ]
  },
  {
   "cell_type": "code",
   "execution_count": null,
   "id": "39a565a6-8d56-47b9-b6e6-53a22d231423",
   "metadata": {},
   "outputs": [],
   "source": [
    "prices = np.random.randint(0, 400, 100)\n",
    "\n",
    "buyers = []\n",
    "for b_i in range(100):\n",
    "    distance_ = {}\n",
    "    for a_i in range(100):\n",
    "        distance_[f\"a_{a_i}\"] = np.random.randint(0, 5000)\n",
    "    buyers.append(Buyer(f\"b_{b_i}\", distance_, beta=0.9))\n",
    "auctions = [Auction(f\"a_{i}\", prices[i]) for i in range(100)]\n",
    "for a in auctions:\n",
    "    for b in buyers:\n",
    "        a.add_buyer(b)\n",
    "        b.inform_price(a.id, a.price)"
   ]
  },
  {
   "cell_type": "code",
   "execution_count": null,
   "id": "9ff1c062-1663-4962-beb2-140618beefe8",
   "metadata": {},
   "outputs": [],
   "source": [
    "%%time\n",
    "\n",
    "results = run_auctions(auctions, buyers, 1001)"
   ]
  },
  {
   "cell_type": "code",
   "execution_count": null,
   "id": "4ab17c2d-5b59-4215-a3d6-abbd9d2d8300",
   "metadata": {},
   "outputs": [],
   "source": [
    "fig, ax = plot_dist_price_results(results, buyers)\n",
    "fig.show()"
   ]
  },
  {
   "cell_type": "code",
   "execution_count": null,
   "id": "15e13ea0-5815-4ea0-8feb-e7a50fa75757",
   "metadata": {},
   "outputs": [],
   "source": [
    "plot_utility(results, buyers, [0.9 for _ in range(100)])"
   ]
  },
  {
   "cell_type": "markdown",
   "id": "49547b20-4c89-4953-b9c9-243c07c20030",
   "metadata": {
    "jp-MarkdownHeadingCollapsed": true,
    "tags": []
   },
   "source": [
    "## **CBD-setup**"
   ]
  },
  {
   "cell_type": "code",
   "execution_count": null,
   "id": "6d218c03-2ab0-428e-9f9a-75ea7f72b8ca",
   "metadata": {},
   "outputs": [],
   "source": [
    "prices = []\n",
    "positions = []\n",
    "for i in range(10):\n",
    "    prices += [500-i*50]*10\n",
    "    positions += [i*100]*10\n",
    "    \n",
    "prices = np.array(prices)\n",
    "positions = np.array(positions)"
   ]
  },
  {
   "cell_type": "code",
   "execution_count": null,
   "id": "fc299065-4b46-4e98-b5d2-0a29c393a078",
   "metadata": {},
   "outputs": [],
   "source": [
    "plt.scatter(positions, prices)\n",
    "plt.xlabel(\"distance [m]\")\n",
    "plt.ylabel(\"price [HUF]\")"
   ]
  },
  {
   "cell_type": "markdown",
   "id": "90f45274-72b6-4dda-8eeb-32a349cd8b16",
   "metadata": {},
   "source": [
    "### 0-centered demand"
   ]
  },
  {
   "cell_type": "markdown",
   "id": "57ee0854-eca4-40eb-a245-f10dfbd674c8",
   "metadata": {
    "tags": []
   },
   "source": [
    "#### $\\beta=0.5$"
   ]
  },
  {
   "cell_type": "code",
   "execution_count": null,
   "id": "ba078a50-c09a-48c4-8f82-e64dc3fbe79e",
   "metadata": {},
   "outputs": [],
   "source": [
    "buyers = []\n",
    "for b_i in range(100):\n",
    "    distance_ = {}\n",
    "    for a_i in range(100):\n",
    "        distance_[f\"a_{a_i}\"] = positions[a_i]\n",
    "    buyers.append(Buyer(f\"b_{b_i}\", distance_, beta=0.5))\n",
    "auctions = [Auction(f\"a_{i}\", prices[i]) for i in range(100)]\n",
    "for a in auctions:\n",
    "    for b in buyers:\n",
    "        a.add_buyer(b)\n",
    "        b.inform_price(a.id, a.price)"
   ]
  },
  {
   "cell_type": "code",
   "execution_count": null,
   "id": "b915eedf-976b-4f44-8b8e-e7d03c72be37",
   "metadata": {},
   "outputs": [],
   "source": [
    "%%time\n",
    "\n",
    "results = run_auctions(auctions, buyers, 1001*100)"
   ]
  },
  {
   "cell_type": "code",
   "execution_count": null,
   "id": "88601c70-cc05-4d5c-9a91-178b49745c16",
   "metadata": {},
   "outputs": [],
   "source": [
    "fig, ax = plot_dist_price_results(results, buyers)\n",
    "fig.show()"
   ]
  },
  {
   "cell_type": "code",
   "execution_count": null,
   "id": "41b736a8-15ac-465f-8e76-90e869e52d3f",
   "metadata": {},
   "outputs": [],
   "source": [
    "plot_utility(results, buyers, [0.5 for _ in range(100)])"
   ]
  },
  {
   "cell_type": "markdown",
   "id": "82a2631e-e48f-4456-aaf6-8cb25319e11f",
   "metadata": {
    "tags": []
   },
   "source": [
    "#### $\\beta = 0.1$"
   ]
  },
  {
   "cell_type": "code",
   "execution_count": null,
   "id": "2c518477-f82c-4638-be2c-1d51c148636f",
   "metadata": {},
   "outputs": [],
   "source": [
    "buyers = []\n",
    "for b_i in range(100):\n",
    "    distance_ = {}\n",
    "    for a_i in range(100):\n",
    "        distance_[f\"a_{a_i}\"] = positions[a_i]\n",
    "    buyers.append(Buyer(f\"b_{b_i}\", distance_, beta=0.1))\n",
    "auctions = [Auction(f\"a_{i}\", prices[i], epsilon=10) for i in range(100)]\n",
    "for a in auctions:\n",
    "    for b in buyers:\n",
    "        a.add_buyer(b)\n",
    "        b.inform_price(a.id, a.price)"
   ]
  },
  {
   "cell_type": "code",
   "execution_count": null,
   "id": "93340c7d-97f9-40d6-bf52-0cb0b3f99977",
   "metadata": {},
   "outputs": [],
   "source": [
    "results = run_auctions(auctions, buyers, 1001*100)"
   ]
  },
  {
   "cell_type": "code",
   "execution_count": null,
   "id": "a87ed12d-1ff9-40c9-995d-f7f6bed857e6",
   "metadata": {},
   "outputs": [],
   "source": [
    "fig, ax = plot_dist_price_results(results, buyers)\n",
    "fig.show()"
   ]
  },
  {
   "cell_type": "code",
   "execution_count": null,
   "id": "1c57e2c0-4582-4a11-bc73-806c0b3c5907",
   "metadata": {},
   "outputs": [],
   "source": [
    "plot_utility(results, buyers, [0.1 for _ in range(100)])"
   ]
  },
  {
   "cell_type": "markdown",
   "id": "df1bf26d-de0d-4bac-88c1-6bb1c5e772f1",
   "metadata": {
    "tags": []
   },
   "source": [
    "#### $\\beta = 0.9$"
   ]
  },
  {
   "cell_type": "code",
   "execution_count": null,
   "id": "771c639a-caa5-4888-800c-d60e5c340208",
   "metadata": {},
   "outputs": [],
   "source": [
    "buyers = []\n",
    "for b_i in range(100):\n",
    "    distance_ = {}\n",
    "    for a_i in range(100):\n",
    "        distance_[f\"a_{a_i}\"] = positions[a_i]\n",
    "    buyers.append(Buyer(f\"b_{b_i}\", distance_, beta=0.9))\n",
    "auctions = [Auction(f\"a_{i}\", prices[i], epsilon=10) for i in range(100)]\n",
    "for a in auctions:\n",
    "    for b in buyers:\n",
    "        a.add_buyer(b)\n",
    "        b.inform_price(a.id, a.price)"
   ]
  },
  {
   "cell_type": "code",
   "execution_count": null,
   "id": "74fff349-f152-44d5-9808-f1b5730ea443",
   "metadata": {},
   "outputs": [],
   "source": [
    "results = run_auctions(auctions, buyers, 1001*100)"
   ]
  },
  {
   "cell_type": "code",
   "execution_count": null,
   "id": "8c33a0c2-6688-475f-a1ac-2fb01747e1d4",
   "metadata": {},
   "outputs": [],
   "source": [
    "fig, ax = plot_dist_price_results(results, buyers)\n",
    "fig.show()"
   ]
  },
  {
   "cell_type": "code",
   "execution_count": null,
   "id": "72694fed-cf58-4ce3-b7ee-b280bc4c4e66",
   "metadata": {},
   "outputs": [],
   "source": [
    "plot_utility(results, buyers, [0.1 for _ in range(100)])"
   ]
  },
  {
   "cell_type": "markdown",
   "id": "146cf4f2-1cda-4923-bcfc-d4083d160c45",
   "metadata": {
    "jp-MarkdownHeadingCollapsed": true,
    "tags": []
   },
   "source": [
    "#### Mostly small $\\beta$"
   ]
  },
  {
   "cell_type": "code",
   "execution_count": null,
   "id": "65c378a3-c1bb-47fb-a9f4-0f2bd3563a30",
   "metadata": {},
   "outputs": [],
   "source": [
    "buyers = []\n",
    "for b_i in range(100):\n",
    "    distance_ = {}\n",
    "    for a_i in range(100):\n",
    "        distance_[f\"a_{a_i}\"] = positions[a_i]\n",
    "    buyers.append(Buyer(f\"b_{b_i}\", distance_, beta=0.1 if b_i<67 else 0.9))\n",
    "auctions = [Auction(f\"a_{i}\", prices[i], epsilon=10) for i in range(100)]\n",
    "for a in auctions:\n",
    "    for b in buyers:\n",
    "        a.add_buyer(b)\n",
    "        b.inform_price(a.id, a.price)"
   ]
  },
  {
   "cell_type": "code",
   "execution_count": null,
   "id": "02ad1f9b-bb2a-4c51-a094-6d7cfe564a4a",
   "metadata": {},
   "outputs": [],
   "source": [
    "results = run_auctions(auctions, buyers, 1001*100)"
   ]
  },
  {
   "cell_type": "code",
   "execution_count": null,
   "id": "b07574bb-2bf1-421b-bb2c-f5566a6c8af3",
   "metadata": {},
   "outputs": [],
   "source": [
    "fig, ax = plot_dist_price_results(results, buyers)\n",
    "fig.show()"
   ]
  },
  {
   "cell_type": "code",
   "execution_count": null,
   "id": "bea8045c-9f7f-4123-9c0e-ce4483d1bd93",
   "metadata": {},
   "outputs": [],
   "source": [
    "plot_utility(results, buyers, [0.1 for _ in range(67)]+[0.9 for _ in range(33)])"
   ]
  },
  {
   "cell_type": "markdown",
   "id": "5efcf177-1aae-4b8c-bc1f-c5450176ec55",
   "metadata": {
    "jp-MarkdownHeadingCollapsed": true,
    "tags": []
   },
   "source": [
    "### **Random demand**"
   ]
  },
  {
   "cell_type": "markdown",
   "id": "40e64c3a-8271-4c75-8813-b6cc4a05ae7d",
   "metadata": {
    "tags": []
   },
   "source": [
    "#### $\\beta = 0.5$"
   ]
  },
  {
   "cell_type": "code",
   "execution_count": null,
   "id": "d6223f29-ba87-4642-9ada-fa4ac6fff6c5",
   "metadata": {},
   "outputs": [],
   "source": [
    "buyers = []\n",
    "for b_i in range(100):\n",
    "    distance_ = {}\n",
    "    buyer_dest = np.random.uniform(0, 1000, 1)[0]\n",
    "    for a_i in range(100):\n",
    "        distance_[f\"a_{a_i}\"] = np.abs(buyer_dest - positions[a_i])\n",
    "    buyers.append(Buyer(f\"b_{b_i}\", distance_, beta=0.5))\n",
    "auctions = [Auction(f\"a_{i}\", prices[i]) for i in range(100)]\n",
    "for a in auctions:\n",
    "    for b in buyers:\n",
    "        a.add_buyer(b)\n",
    "        b.inform_price(a.id, a.price)"
   ]
  },
  {
   "cell_type": "code",
   "execution_count": null,
   "id": "3a030956-ea61-48f5-bc55-3e704e26c623",
   "metadata": {},
   "outputs": [],
   "source": [
    "results = run_auctions(auctions, buyers, 1001*100)"
   ]
  },
  {
   "cell_type": "code",
   "execution_count": null,
   "id": "fb2e60fd-3508-44e8-9291-1e959afa50e0",
   "metadata": {},
   "outputs": [],
   "source": [
    "fig, ax = plot_dist_price_results(results, buyers)\n",
    "fig.show()"
   ]
  },
  {
   "cell_type": "code",
   "execution_count": null,
   "id": "6a751442-9fee-4b8d-b422-6f1be4cd07c0",
   "metadata": {},
   "outputs": [],
   "source": [
    "plot_utility(results, buyers, [0.5 for _ in range(100)])"
   ]
  },
  {
   "cell_type": "markdown",
   "id": "fd2a6962-a7fb-44bf-9917-53056f687a0c",
   "metadata": {
    "tags": []
   },
   "source": [
    "#### $\\beta = 0.1$"
   ]
  },
  {
   "cell_type": "code",
   "execution_count": null,
   "id": "577f2eff-98cd-4698-876a-1783bc10239f",
   "metadata": {},
   "outputs": [],
   "source": [
    "buyers = []\n",
    "for b_i in range(100):\n",
    "    distance_ = {}\n",
    "    buyer_dest = np.random.uniform(0, 1000, 1)[0]\n",
    "    for a_i in range(100):\n",
    "        distance_[f\"a_{a_i}\"] = np.abs(buyer_dest - positions[a_i])\n",
    "    buyers.append(Buyer(f\"b_{b_i}\", distance_, beta=0.1))\n",
    "auctions = [Auction(f\"a_{i}\", prices[i]) for i in range(100)]\n",
    "for a in auctions:\n",
    "    for b in buyers:\n",
    "        a.add_buyer(b)\n",
    "        b.inform_price(a.id, a.price)"
   ]
  },
  {
   "cell_type": "code",
   "execution_count": null,
   "id": "cadc3f4c-62c8-474f-898d-0b11c9f41bcf",
   "metadata": {},
   "outputs": [],
   "source": [
    "results = run_auctions(auctions, buyers, 1001*100)"
   ]
  },
  {
   "cell_type": "code",
   "execution_count": null,
   "id": "ba2a7a67-e0cf-4b0e-8967-ca1d7d930d02",
   "metadata": {},
   "outputs": [],
   "source": [
    "fig, ax = plot_dist_price_results(results, buyers)\n",
    "fig.show()"
   ]
  },
  {
   "cell_type": "code",
   "execution_count": null,
   "id": "e579856e-6979-418e-850b-dfd778749e4a",
   "metadata": {},
   "outputs": [],
   "source": [
    "plot_utility(results, buyers, [0.1 for _ in range(100)])"
   ]
  },
  {
   "cell_type": "markdown",
   "id": "0c02be9a-518c-46e8-99eb-9fa482d546b9",
   "metadata": {
    "tags": []
   },
   "source": [
    "#### $\\beta = 0.9$"
   ]
  },
  {
   "cell_type": "code",
   "execution_count": null,
   "id": "96338993-916f-4b10-8e7e-ec8618cc5aa7",
   "metadata": {},
   "outputs": [],
   "source": [
    "buyers = []\n",
    "for b_i in range(100):\n",
    "    distance_ = {}\n",
    "    buyer_dest = np.random.uniform(0, 1000, 1)[0]\n",
    "    for a_i in range(100):\n",
    "        distance_[f\"a_{a_i}\"] = np.abs(buyer_dest - positions[a_i])\n",
    "    buyers.append(Buyer(f\"b_{b_i}\", distance_, beta=0.9))\n",
    "auctions = [Auction(f\"a_{i}\", prices[i]) for i in range(100)]\n",
    "for a in auctions:\n",
    "    for b in buyers:\n",
    "        a.add_buyer(b)\n",
    "        b.inform_price(a.id, a.price)"
   ]
  },
  {
   "cell_type": "code",
   "execution_count": null,
   "id": "8c17ce1d-359e-4721-86c5-bedba6edb2b9",
   "metadata": {},
   "outputs": [],
   "source": [
    "results = run_auctions(auctions, buyers, 1001*100)"
   ]
  },
  {
   "cell_type": "code",
   "execution_count": null,
   "id": "3aee3dee-b3ca-4196-87cd-e24138687f15",
   "metadata": {},
   "outputs": [],
   "source": [
    "fig, ax = plot_dist_price_results(results, buyers)\n",
    "fig.show()"
   ]
  },
  {
   "cell_type": "code",
   "execution_count": null,
   "id": "52206ee1-0bc3-4915-a2ff-69e8de891284",
   "metadata": {},
   "outputs": [],
   "source": [
    "plot_utility(results, buyers, [0.9 for _ in range(100)])"
   ]
  },
  {
   "cell_type": "markdown",
   "id": "ba00b1f6-b70f-44a5-8e54-10c03ca94a2c",
   "metadata": {},
   "source": [
    "## **Various tests**"
   ]
  },
  {
   "cell_type": "markdown",
   "id": "e1cbff3b-b284-459d-8a0f-6b243d4cecfc",
   "metadata": {
    "jp-MarkdownHeadingCollapsed": true,
    "tags": []
   },
   "source": [
    "### **Underdemand, random setup, $\\beta = 1.0$**"
   ]
  },
  {
   "cell_type": "code",
   "execution_count": null,
   "id": "56e9ed9f-3f08-43b2-959f-bcf45e9b5612",
   "metadata": {},
   "outputs": [],
   "source": [
    "prices = np.random.randint(0, 400, 100)\n",
    "\n",
    "buyers = []\n",
    "for b_i in range(30):\n",
    "    distance_ = {}\n",
    "    for a_i in range(100):\n",
    "        distance_[f\"a_{a_i}\"] = np.random.randint(0, 5000)\n",
    "    buyers.append(Buyer(f\"b_{b_i}\", distance_, beta=1.0))\n",
    "auctions = [Auction(f\"a_{i}\", prices[i]) for i in range(100)]\n",
    "for a in auctions:\n",
    "    for b in buyers:\n",
    "        a.add_buyer(b)\n",
    "        b.inform_price(a.id, a.price)"
   ]
  },
  {
   "cell_type": "code",
   "execution_count": null,
   "id": "eaacc8a2-d3a7-4322-9266-cc93143507c7",
   "metadata": {},
   "outputs": [],
   "source": [
    "prices[np.argsort(prices)[29]]"
   ]
  },
  {
   "cell_type": "code",
   "execution_count": null,
   "id": "d55ff921-8eb7-41df-a408-385843349673",
   "metadata": {},
   "outputs": [],
   "source": [
    "results = run_auctions(auctions, buyers, 1001*100)"
   ]
  },
  {
   "cell_type": "code",
   "execution_count": null,
   "id": "dad7059b-ef14-4a59-b9d0-c91f3b6e3695",
   "metadata": {},
   "outputs": [],
   "source": [
    "fig, ax = plot_dist_price_results(results, buyers)\n",
    "fig.show()"
   ]
  },
  {
   "cell_type": "code",
   "execution_count": null,
   "id": "323595f1-002c-4a1c-a1e0-b7916f69dc66",
   "metadata": {},
   "outputs": [],
   "source": [
    "plot_utility(results, buyers, [0.5 for _ in range(30)])"
   ]
  },
  {
   "cell_type": "markdown",
   "id": "126bb35c-c9e5-4df2-9310-e211e4383dcc",
   "metadata": {
    "jp-MarkdownHeadingCollapsed": true,
    "tags": []
   },
   "source": [
    "### **Underdemand, 0-centered demand, $\\beta=1.0$**"
   ]
  },
  {
   "cell_type": "code",
   "execution_count": null,
   "id": "7937e6ae-dfc9-4d0a-8f1a-aa412823cbbe",
   "metadata": {},
   "outputs": [],
   "source": [
    "prices = []\n",
    "positions = []\n",
    "for i in range(10):\n",
    "    prices += [500-i*50]*10\n",
    "    positions += [i*100]*10\n",
    "    \n",
    "prices = np.array(prices)\n",
    "positions = np.array(positions)"
   ]
  },
  {
   "cell_type": "code",
   "execution_count": null,
   "id": "bbefe0d8-f280-4f77-8685-21d88e225b52",
   "metadata": {},
   "outputs": [],
   "source": [
    "buyers = []\n",
    "for b_i in range(30):\n",
    "    distance_ = {}\n",
    "    for a_i in range(100):\n",
    "        distance_[f\"a_{a_i}\"] = positions[a_i]\n",
    "    buyers.append(Buyer(f\"b_{b_i}\", distance_, beta=1.0))\n",
    "auctions = [Auction(f\"a_{i}\", prices[i]) for i in range(100)]\n",
    "for a in auctions:\n",
    "    for b in buyers:\n",
    "        a.add_buyer(b)\n",
    "        b.inform_price(a.id, a.price)"
   ]
  },
  {
   "cell_type": "code",
   "execution_count": null,
   "id": "d5e2568e-09d4-42f2-ae1f-3fb02a97965a",
   "metadata": {},
   "outputs": [],
   "source": [
    "prices[np.argsort(prices)[29]]"
   ]
  },
  {
   "cell_type": "code",
   "execution_count": null,
   "id": "87a26f07-ac92-4963-8091-e8e40b882c77",
   "metadata": {},
   "outputs": [],
   "source": [
    "results = run_auctions(auctions, buyers, 1001*100)"
   ]
  },
  {
   "cell_type": "code",
   "execution_count": null,
   "id": "f60c1881-eaed-48e7-bb7b-cea1d3f7c0fb",
   "metadata": {},
   "outputs": [],
   "source": [
    "fig, ax = plot_dist_price_results(results, buyers)\n",
    "fig.show()"
   ]
  },
  {
   "cell_type": "code",
   "execution_count": null,
   "id": "44657043-9ff5-4224-a299-b69d6c62e184",
   "metadata": {},
   "outputs": [],
   "source": [
    "plot_utility(results, buyers, [0.5 for _ in range(30)])"
   ]
  },
  {
   "cell_type": "markdown",
   "id": "f25552ff-9b9d-4839-992e-127a7f5995ae",
   "metadata": {
    "jp-MarkdownHeadingCollapsed": true,
    "tags": []
   },
   "source": [
    "### **Parking sizing**\n",
    "\n",
    "If parking spaces are assigned by SIA, then what parking size maximizes the income of the parking lot operator?"
   ]
  },
  {
   "cell_type": "code",
   "execution_count": null,
   "id": "d543440b-b590-498f-bbe1-b2206f13afb8",
   "metadata": {},
   "outputs": [],
   "source": [
    "M = 25 #M vehicles"
   ]
  },
  {
   "cell_type": "code",
   "execution_count": null,
   "id": "16cf665d-9c3f-413e-9260-92a23096adee",
   "metadata": {},
   "outputs": [],
   "source": [
    "from tqdm.notebook import trange\n",
    "\n",
    "total_incomes = []\n",
    "distances = 50\n",
    "prices = 500\n",
    "\n",
    "for n in trange(1, 40): #n auctions\n",
    "    auctions = []\n",
    "    buyers = []\n",
    "    \n",
    "    #prepare auctions:\n",
    "    for b_i in range(M):\n",
    "        distance_ = {}\n",
    "        for a_i in range(n):\n",
    "            distance_[f\"a_{a_i}\"] = distances\n",
    "        buyers.append(Buyer(f\"b_{b_i}\", distance_, beta=1.0))\n",
    "    auctions = [Auction(f\"a_{i}\", prices) for i in range(n)]\n",
    "    for a in auctions:\n",
    "        for b in buyers:\n",
    "            a.add_buyer(b)\n",
    "            b.inform_price(a.id, a.price)\n",
    "\n",
    "    #run auctions:\n",
    "    results = run_auctions(auctions, buyers, 1001*100)\n",
    "    \n",
    "    p_ = 0\n",
    "    for r in results:\n",
    "        if results[r][\"winner\"] != \"\":\n",
    "            p_ += results[r][\"price\"]\n",
    "    total_incomes.append(p_)"
   ]
  },
  {
   "cell_type": "code",
   "execution_count": null,
   "id": "fd8d7313-387f-4cb7-8952-2bf78a412d7d",
   "metadata": {},
   "outputs": [],
   "source": [
    "in_euro = np.array(total_incomes)/100\n",
    "\n",
    "plt.figure(figsize=(6, 3))\n",
    "plt.fill_between(np.linspace(1, 24, 24), in_euro[:24], alpha=0.15, hatch=\"\\\\\\\\\", color=\"k\", label=\"Theorem 3.\")\n",
    "plt.plot(np.linspace(1, 39, 39), in_euro, alpha=0.6, color=\"k\")\n",
    "plt.scatter(np.linspace(1, 24, 24), in_euro[:24], marker=\"o\", color=\"k\", )\n",
    "plt.fill_between(np.linspace(25, 39, 15), in_euro[24:], alpha=0.3, hatch=\"//\", color=\"k\", label=\"Theorem 2.\")\n",
    "plt.scatter(np.linspace(25, 39, 15), in_euro[24:], marker=\"o\", color=\"k\")\n",
    "plt.legend()\n",
    "plt.ylabel(\"total income [€]\")\n",
    "plt.xlabel(\"#parkings\")\n",
    "plt.vlines(x=np.argmax(in_euro)+1, ymin = 0, ymax = max(in_euro)*1.1,\n",
    "           color=\"k\", linestyle=\"--\", linewidth=3, alpha=0.66)"
   ]
  },
  {
   "cell_type": "markdown",
   "id": "6ec5aa61-1e57-4470-a080-3ee202268f39",
   "metadata": {
    "tags": []
   },
   "source": [
    "### Relevant and Irrelevant Parkings"
   ]
  },
  {
   "cell_type": "markdown",
   "id": "3af13dec-7b2d-4568-adaf-8f810577121c",
   "metadata": {
    "jp-MarkdownHeadingCollapsed": true,
    "tags": []
   },
   "source": [
    "#### Descending pricing, $\\beta = 0.25$, overdemand"
   ]
  },
  {
   "cell_type": "code",
   "execution_count": null,
   "id": "663a4b0c-9ecb-48a5-b315-a224e94a5e65",
   "metadata": {},
   "outputs": [],
   "source": [
    "distances = []\n",
    "prices = []\n",
    "for i in range(20):\n",
    "    distances.append(i*25)\n",
    "for i in range(80):\n",
    "    distances.append(2000)\n",
    "\n",
    "for i in range(20):\n",
    "    prices.append(500-i*10)\n",
    "for i in range(80):\n",
    "    prices.append(50)"
   ]
  },
  {
   "cell_type": "code",
   "execution_count": null,
   "id": "b4b7801f-9f0b-4b73-9114-ec0278e01973",
   "metadata": {},
   "outputs": [],
   "source": [
    "plt.scatter(distances, prices)\n",
    "plt.xlabel(\"distance [m]\")\n",
    "plt.ylabel(\"price [HUF]\")"
   ]
  },
  {
   "cell_type": "code",
   "execution_count": null,
   "id": "fb3bda1d-170a-4fe8-a9db-b5adb471e2f4",
   "metadata": {},
   "outputs": [],
   "source": [
    "buyers = []\n",
    "for b_i in range(25):\n",
    "    distance_ = {}\n",
    "    for a_i in range(100):\n",
    "        distance_[f\"a_{a_i}\"] = distances[a_i]\n",
    "    buyers.append(Buyer(f\"b_{b_i}\", distance_, beta=0.25))\n",
    "auctions = [Auction(f\"a_{i}\", prices[i]) for i in range(100)]\n",
    "for a in auctions:\n",
    "    for b in buyers:\n",
    "        a.add_buyer(b)\n",
    "        b.inform_price(a.id, a.price)"
   ]
  },
  {
   "cell_type": "code",
   "execution_count": null,
   "id": "9f766c6d-bd90-4759-bf14-bd55983de8bf",
   "metadata": {},
   "outputs": [],
   "source": [
    "results = run_auctions(auctions, buyers, 100*1001)"
   ]
  },
  {
   "cell_type": "code",
   "execution_count": null,
   "id": "172d72e4-35f0-4bde-9510-cf8177bd767d",
   "metadata": {},
   "outputs": [],
   "source": [
    "plot_dist_price_results(results, buyers)"
   ]
  },
  {
   "cell_type": "code",
   "execution_count": null,
   "id": "e671dc3b-572e-44c7-9773-27811afe51e2",
   "metadata": {},
   "outputs": [],
   "source": [
    "plot_utility(results, buyers, [0.25 for _ in range(25)])"
   ]
  },
  {
   "cell_type": "markdown",
   "id": "d4c80da8-46bd-4587-87e8-7b960907180f",
   "metadata": {
    "jp-MarkdownHeadingCollapsed": true,
    "tags": []
   },
   "source": [
    "#### Descending pricing, $\\beta = 0.25$, underdemand"
   ]
  },
  {
   "cell_type": "code",
   "execution_count": null,
   "id": "15f99051-e28f-49f0-bd74-551e1479f276",
   "metadata": {},
   "outputs": [],
   "source": [
    "buyers = []\n",
    "for b_i in range(15):\n",
    "    distance_ = {}\n",
    "    for a_i in range(100):\n",
    "        distance_[f\"a_{a_i}\"] = distances[a_i]\n",
    "    buyers.append(Buyer(f\"b_{b_i}\", distance_, beta=0.25))\n",
    "auctions = [Auction(f\"a_{i}\", prices[i]) for i in range(100)]\n",
    "for a in auctions:\n",
    "    for b in buyers:\n",
    "        a.add_buyer(b)\n",
    "        b.inform_price(a.id, a.price)"
   ]
  },
  {
   "cell_type": "code",
   "execution_count": null,
   "id": "777a6185-98fa-4760-b517-865904fd0bc4",
   "metadata": {},
   "outputs": [],
   "source": [
    "results = run_auctions(auctions, buyers, 100*1001)"
   ]
  },
  {
   "cell_type": "code",
   "execution_count": null,
   "id": "2bc4b69d-935e-47f2-a228-38f7540cee18",
   "metadata": {},
   "outputs": [],
   "source": [
    "plot_dist_price_results(results, buyers)"
   ]
  },
  {
   "cell_type": "code",
   "execution_count": null,
   "id": "2abd75db-4cf9-4eed-b2b2-b93ae9439215",
   "metadata": {},
   "outputs": [],
   "source": [
    "plot_utility(results, buyers, [0.25 for _ in range(15)])"
   ]
  },
  {
   "cell_type": "markdown",
   "id": "13ed5adc-f9e2-40e5-a387-fc7faa1f4d5f",
   "metadata": {
    "jp-MarkdownHeadingCollapsed": true,
    "tags": []
   },
   "source": [
    "#### Descending pricing, $\\beta = 0.75$, underdemand"
   ]
  },
  {
   "cell_type": "code",
   "execution_count": null,
   "id": "5176b80e-73e3-4e0a-a0be-ae221738f015",
   "metadata": {},
   "outputs": [],
   "source": [
    "buyers = []\n",
    "for b_i in range(15):\n",
    "    distance_ = {}\n",
    "    for a_i in range(100):\n",
    "        distance_[f\"a_{a_i}\"] = distances[a_i]\n",
    "    buyers.append(Buyer(f\"b_{b_i}\", distance_, beta=0.75))\n",
    "auctions = [Auction(f\"a_{i}\", prices[i]) for i in range(100)]\n",
    "for a in auctions:\n",
    "    for b in buyers:\n",
    "        a.add_buyer(b)\n",
    "        b.inform_price(a.id, a.price)"
   ]
  },
  {
   "cell_type": "code",
   "execution_count": null,
   "id": "d6feaf07-6356-400f-9baf-03b8e55c984e",
   "metadata": {},
   "outputs": [],
   "source": [
    "results = run_auctions(auctions, buyers, 100*1001)"
   ]
  },
  {
   "cell_type": "code",
   "execution_count": null,
   "id": "c47fee86-d083-4b6c-b739-a41584d4dbfa",
   "metadata": {},
   "outputs": [],
   "source": [
    "plot_dist_price_results(results, buyers)"
   ]
  },
  {
   "cell_type": "code",
   "execution_count": null,
   "id": "0c5eb835-31d6-40f9-a072-073389ebdd42",
   "metadata": {},
   "outputs": [],
   "source": [
    "plot_utility(results, buyers, [0.75 for _ in range(15)])"
   ]
  },
  {
   "cell_type": "markdown",
   "id": "bbf6ea19-4d13-4ed7-8d0a-208bb1110036",
   "metadata": {
    "jp-MarkdownHeadingCollapsed": true,
    "tags": []
   },
   "source": [
    "### **Prices during auctions**"
   ]
  },
  {
   "cell_type": "markdown",
   "id": "096ebe65-fd2c-4cb2-a5f8-a584ad08cec7",
   "metadata": {},
   "source": [
    "#### Underdemand, random setup, $\\beta=1.0$"
   ]
  },
  {
   "cell_type": "code",
   "execution_count": null,
   "id": "f24f5d28-e781-4043-8826-9a2192bb0227",
   "metadata": {},
   "outputs": [],
   "source": [
    "prices = np.random.randint(100, 400, 100)\n",
    "\n",
    "buyers = []\n",
    "for b_i in range(8):\n",
    "    distance_ = {}\n",
    "    for a_i in range(100):\n",
    "        distance_[f\"a_{a_i}\"] = np.random.randint(0, 5000)\n",
    "    buyers.append(Buyer(f\"b_{b_i}\", distance_, beta=1.0))\n",
    "auctions = [Auction(f\"a_{i}\", prices[i]) for i in range(100)]\n",
    "for a in auctions:\n",
    "    for b in buyers:\n",
    "        a.add_buyer(b)\n",
    "        b.inform_price(a.id, a.price)"
   ]
  },
  {
   "cell_type": "code",
   "execution_count": null,
   "id": "680a4a66-3dcf-4576-9b08-b9aff99889b8",
   "metadata": {},
   "outputs": [],
   "source": [
    "results, auction_prices = run_auctions_with_prices(auctions, buyers, 100000)"
   ]
  },
  {
   "cell_type": "code",
   "execution_count": null,
   "id": "00b49c93-0428-46fe-a710-bfa1ed9175d8",
   "metadata": {},
   "outputs": [],
   "source": [
    "auctions_per_time = {}\n",
    "for a in auctions:\n",
    "    if results[a.id][\"winner\"] != \"\":\n",
    "        ap_ = []\n",
    "        for t in range(len(auction_prices)):\n",
    "            ap_.append(auction_prices[t][a.id])\n",
    "        auctions_per_time[a.id] = ap_"
   ]
  },
  {
   "cell_type": "code",
   "execution_count": null,
   "id": "58356bf5-0a7a-43de-9a06-ac35ee7a5939",
   "metadata": {},
   "outputs": [],
   "source": [
    "for a in auctions:\n",
    "    if a.id in auctions_per_time:\n",
    "        plt.plot(auctions_per_time[a.id], label=a.id)\n",
    "        \n",
    "plt.legend(ncols=2)\n",
    "plt.xlabel(\"auction rounds\")\n",
    "plt.ylabel(\"prices [HUF]\")"
   ]
  },
  {
   "cell_type": "markdown",
   "id": "4d3736c3-3052-4786-91cb-0927d76450fa",
   "metadata": {},
   "source": [
    "#### Underdemand, small CBD setup $\\beta = 1.0$"
   ]
  },
  {
   "cell_type": "code",
   "execution_count": null,
   "id": "b5c9dc6c-2e30-47c8-9d80-9926f79a0746",
   "metadata": {},
   "outputs": [],
   "source": [
    "distances = np.linspace(0, 18, 10)\n",
    "prices = np.linspace(20, 2, 10)"
   ]
  },
  {
   "cell_type": "code",
   "execution_count": null,
   "id": "9c9cb370-7788-4806-bb5b-6ed76a81e77e",
   "metadata": {},
   "outputs": [],
   "source": [
    "plt.scatter(distances, prices, alpha=.67)\n",
    "plt.xlabel(\"distance\")\n",
    "plt.ylabel(\"price\")"
   ]
  },
  {
   "cell_type": "code",
   "execution_count": null,
   "id": "886267b2-9472-49c7-abd5-1b8ad6a0c2c8",
   "metadata": {},
   "outputs": [],
   "source": [
    "buyers = []\n",
    "for b_i in range(8):\n",
    "    distance_ = {}\n",
    "    for a_i in range(10):\n",
    "        distance_[f\"$A_{a_i}$\"] = distances[a_i]\n",
    "    buyers.append(Buyer(f\"b_{b_i}\", distance_, beta=1.0))\n",
    "auctions = [Auction(f\"$A_{i}$\", prices[i], epsilon=1) for i in range(10)]\n",
    "for a in auctions:\n",
    "    for b in buyers:\n",
    "        a.add_buyer(b)\n",
    "        b.inform_price(a.id, a.price)"
   ]
  },
  {
   "cell_type": "code",
   "execution_count": null,
   "id": "e51f0e66-2623-40b8-a066-756ec4756974",
   "metadata": {},
   "outputs": [],
   "source": [
    "results, auction_prices = run_auctions_with_prices(auctions, buyers, 100000)"
   ]
  },
  {
   "cell_type": "code",
   "execution_count": null,
   "id": "a3bc0d46-c959-4ca7-b760-1f6ab70f8220",
   "metadata": {},
   "outputs": [],
   "source": [
    "auctions_per_time = {}\n",
    "for a in auctions:\n",
    "    if results[a.id][\"winner\"] != \"\":\n",
    "        ap_ = []\n",
    "        for t in range(len(auction_prices)):\n",
    "            ap_.append(auction_prices[t][a.id])\n",
    "        auctions_per_time[a.id] = ap_"
   ]
  },
  {
   "cell_type": "code",
   "execution_count": null,
   "id": "d6534301-f54f-4294-a2c8-2b8bb0add2a0",
   "metadata": {},
   "outputs": [],
   "source": [
    "plt.figure(figsize=(6,3))\n",
    "\n",
    "i = 0\n",
    "for a in auctions:\n",
    "    if a.id in auctions_per_time:\n",
    "        if i%2 == 0:\n",
    "            marker = \"x\"\n",
    "        else:\n",
    "            marker = \"o\"\n",
    "        plt.plot(auctions_per_time[a.id], label=a.id, marker=marker,\n",
    "                 color=\"k\", alpha=0.9-(i*0.1))\n",
    "        i += 1\n",
    "        \n",
    "plt.legend(title=\"auctions\", ncols=2)\n",
    "plt.xlabel(\"auction rounds\")\n",
    "plt.yticks([0, 2, 4, 6, 8, 10, 12, 14, 16, 18])\n",
    "plt.ylabel(\"prices [¢]\")\n",
    "plt.ylim(0, 18)"
   ]
  },
  {
   "cell_type": "markdown",
   "id": "9a1d6fde-5be6-446f-9e12-5d21d9d52ffb",
   "metadata": {},
   "source": [
    "#### Overdemand, small CBD setup, $\\beta=1.0$"
   ]
  },
  {
   "cell_type": "code",
   "execution_count": null,
   "id": "924d29f9-0973-4f59-966e-abbbeda3cf93",
   "metadata": {},
   "outputs": [],
   "source": [
    "buyers = []\n",
    "for b_i in range(11):\n",
    "    distance_ = {}\n",
    "    for a_i in range(10):\n",
    "        distance_[f\"a_{a_i}\"] = distances[a_i]\n",
    "    buyers.append(Buyer(f\"b_{b_i}\", distance_, beta=1.0, pv=30, pvmax=30))\n",
    "auctions = [Auction(f\"a_{i}\", prices[i], epsilon=1) for i in range(10)]\n",
    "for a in auctions:\n",
    "    for b in buyers:\n",
    "        a.add_buyer(b)\n",
    "        b.inform_price(a.id, a.price)"
   ]
  },
  {
   "cell_type": "code",
   "execution_count": null,
   "id": "dc7b1a4c-224d-424b-9cbf-0d575200597e",
   "metadata": {},
   "outputs": [],
   "source": [
    "results, auction_prices = run_auctions_with_prices(auctions, buyers, 100000)"
   ]
  },
  {
   "cell_type": "code",
   "execution_count": null,
   "id": "ca4e1209-5f2f-49c7-a760-da293ed71209",
   "metadata": {},
   "outputs": [],
   "source": [
    "auctions_per_time = {}\n",
    "for a in auctions:\n",
    "    if results[a.id][\"winner\"] != \"\":\n",
    "        ap_ = []\n",
    "        for t in range(len(auction_prices)):\n",
    "            ap_.append(auction_prices[t][a.id])\n",
    "        auctions_per_time[a.id] = ap_"
   ]
  },
  {
   "cell_type": "code",
   "execution_count": null,
   "id": "2e84b287-fb9c-4c10-9c71-1ff5bf33f6d0",
   "metadata": {},
   "outputs": [],
   "source": [
    "for a in auctions:\n",
    "    if a.id in auctions_per_time:\n",
    "        plt.plot(auctions_per_time[a.id], label=a.id)\n",
    "        \n",
    "plt.legend(ncols=2)\n",
    "plt.xlabel(\"auction rounds\")\n",
    "plt.ylabel(\"prices [HUF]\")\n",
    "plt.xlim(0, 30)"
   ]
  },
  {
   "cell_type": "markdown",
   "id": "1f9b05fc-3460-45c0-ba63-a1d8b8bc4ddf",
   "metadata": {
    "jp-MarkdownHeadingCollapsed": true,
    "tags": []
   },
   "source": [
    "### **Test Prices, $\\beta = 0.1$**"
   ]
  },
  {
   "cell_type": "markdown",
   "id": "1d8ca4be-9406-4b6a-849d-698db85a6dcd",
   "metadata": {},
   "source": [
    "#### Single peak in demand"
   ]
  },
  {
   "cell_type": "code",
   "execution_count": null,
   "id": "d33184d2-5d3b-42b7-b964-09d387c0b1f0",
   "metadata": {},
   "outputs": [],
   "source": [
    "distances = []\n",
    "for d in range(0, 5000, 50):\n",
    "    for k in range(5):\n",
    "        distances.append(d)\n",
    "prices = [0]*len(distances)\n",
    "demand = np.concatenate((np.random.normal(2000, 100, 100),\n",
    "                         np.random.uniform(0, 5000, 100)))"
   ]
  },
  {
   "cell_type": "code",
   "execution_count": null,
   "id": "35d43400-92c2-48ed-b64b-60f1f0280fb6",
   "metadata": {},
   "outputs": [],
   "source": [
    "plt.hist(demand, bins=50, alpha=0.67)\n",
    "plt.xlabel(\"demand\")\n",
    "plt.ylabel(\"position [m]\")"
   ]
  },
  {
   "cell_type": "code",
   "execution_count": null,
   "id": "7aa51146-a635-49e0-b5f7-924ea4e57391",
   "metadata": {},
   "outputs": [],
   "source": [
    "buyers = []\n",
    "for b_i in range(200):\n",
    "    distance_ = {}\n",
    "    for a_i in range(500):\n",
    "        distance_[f\"a_{a_i}\"] = np.abs(demand[b_i]-distances[a_i])\n",
    "    buyers.append(Buyer(f\"b_{b_i}\", distance_, beta=0.1))\n",
    "auctions = [Auction(f\"a_{i}\", prices[i]) for i in range(500)]\n",
    "for a in auctions:\n",
    "    for b in buyers:\n",
    "        a.add_buyer(b)\n",
    "        b.inform_price(a.id, a.price)"
   ]
  },
  {
   "cell_type": "code",
   "execution_count": null,
   "id": "30517c45-b198-48dd-bf7d-cf94bdaab63c",
   "metadata": {},
   "outputs": [],
   "source": [
    "results = run_auctions(auctions, buyers, 100*1001)"
   ]
  },
  {
   "cell_type": "code",
   "execution_count": null,
   "id": "6012bbdd-d2a5-4a7f-987d-fbfa63544cd7",
   "metadata": {},
   "outputs": [],
   "source": [
    "fig, ax = plot_position_price_results(results, buyers, distances, label=\"auctioned prices\")\n",
    "bx = ax.twinx()\n",
    "bx.hist(demand, bins=50, alpha=0.3, color=\"k\", label=\"demand\")\n",
    "bx.set_yticks([])\n",
    "#bx.legend(loc=0)\n",
    "#ax.legend()\n",
    "fig.legend(loc=\"upper right\", bbox_to_anchor=(.9,.85))\n",
    "#plt.ylabel(\"position [m]\")"
   ]
  },
  {
   "cell_type": "code",
   "execution_count": null,
   "id": "ce51e14c-af36-492b-bc13-1785fe1bacad",
   "metadata": {},
   "outputs": [],
   "source": [
    "import json\n",
    "with open(\"../03_results/single_peak.json\", \"w\") as f:\n",
    "    json.dump(results, f)"
   ]
  },
  {
   "cell_type": "markdown",
   "id": "ca01a707-fdeb-48ff-9fc4-c46645b69f21",
   "metadata": {},
   "source": [
    "#### Double peak demand"
   ]
  },
  {
   "cell_type": "code",
   "execution_count": null,
   "id": "c6d9bd27-530c-44e6-aa39-2cc370fd0272",
   "metadata": {},
   "outputs": [],
   "source": [
    "distances = []\n",
    "for d in range(0, 5000, 50):\n",
    "    for k in range(5):\n",
    "        distances.append(d)\n",
    "prices = [0]*len(distances)\n",
    "demand = np.concatenate((np.random.normal(1200, 100, 70),\n",
    "                         np.random.normal(3600, 100, 30),\n",
    "                         np.random.uniform(0, 5000, 100)))"
   ]
  },
  {
   "cell_type": "code",
   "execution_count": null,
   "id": "f17ee218-5e32-4fcf-9d6c-b00ac04b9002",
   "metadata": {},
   "outputs": [],
   "source": [
    "plt.hist(demand, bins=50, alpha=0.67)\n",
    "plt.xlabel(\"demand\")\n",
    "plt.ylabel(\"position [m]\")"
   ]
  },
  {
   "cell_type": "code",
   "execution_count": null,
   "id": "6a2585cf-835d-4f2e-b9b3-4a9707893a25",
   "metadata": {},
   "outputs": [],
   "source": [
    "buyers = []\n",
    "for b_i in range(200):\n",
    "    distance_ = {}\n",
    "    for a_i in range(500):\n",
    "        distance_[f\"a_{a_i}\"] = np.abs(demand[b_i]-distances[a_i])\n",
    "    buyers.append(Buyer(f\"b_{b_i}\", distance_, beta=0.1))\n",
    "auctions = [Auction(f\"a_{i}\", prices[i]) for i in range(500)]\n",
    "for a in auctions:\n",
    "    for b in buyers:\n",
    "        a.add_buyer(b)\n",
    "        b.inform_price(a.id, a.price)"
   ]
  },
  {
   "cell_type": "code",
   "execution_count": null,
   "id": "52416fcd-3771-4ff4-8e5d-e88614692870",
   "metadata": {},
   "outputs": [],
   "source": [
    "results = run_auctions(auctions, buyers, 100*1001)"
   ]
  },
  {
   "cell_type": "code",
   "execution_count": null,
   "id": "01ab8891-8c4d-4214-89ef-02e868f6e751",
   "metadata": {},
   "outputs": [],
   "source": [
    "fig, ax = plot_position_price_results(results, buyers, distances, label=\"auctioned prices\")\n",
    "bx = ax.twinx()\n",
    "bx.hist(demand, bins=50, alpha=0.3, color=\"k\", label=\"demand\")\n",
    "bx.set_yticks([])\n",
    "#bx.legend(loc=0)\n",
    "#ax.legend()\n",
    "fig.legend(loc=\"upper right\", bbox_to_anchor=(.9,.85))\n",
    "#plt.ylabel(\"position [m]\")"
   ]
  },
  {
   "cell_type": "code",
   "execution_count": null,
   "id": "0b382b6d-d130-4150-99f2-4f1fb373d866",
   "metadata": {},
   "outputs": [],
   "source": [
    "import json\n",
    "with open(\"../03_results/double_peak.json\", \"w\") as f:\n",
    "    json.dump(results, f)"
   ]
  },
  {
   "cell_type": "markdown",
   "id": "62648b78-03d1-4435-9623-d78292b97260",
   "metadata": {},
   "source": [
    "#### Pedestrian zone"
   ]
  },
  {
   "cell_type": "code",
   "execution_count": null,
   "id": "8288f2e2-2036-48d1-88b0-942d73e53cea",
   "metadata": {},
   "outputs": [],
   "source": [
    "distances = []\n",
    "for d in range(0, 5000, 50):\n",
    "    if (d<3000) or (d>4000):\n",
    "        for k in range(6):\n",
    "            distances.append(d)\n",
    "prices = [0]*len(distances)\n",
    "demand = np.random.uniform(0, 5000, 200)"
   ]
  },
  {
   "cell_type": "code",
   "execution_count": null,
   "id": "0476666c-8f56-419a-8d38-032e2eb6263d",
   "metadata": {},
   "outputs": [],
   "source": [
    "fig, ax = plt.subplots(1,1, figsize=(6,4))\n",
    "ax.hist(demand, bins=50, alpha=0.67)\n",
    "ax.set_xlabel(\"demand\")\n",
    "bx = ax.twinx()\n",
    "bx.scatter(distances, prices, marker=\"x\", color=\"tab:red\", label=\"parkings\")\n",
    "bx.set_ylim(-0.05, 0.3)\n",
    "bx.set_yticks([])\n",
    "ax.set_ylabel(\"position [m]\")\n",
    "fig.legend()"
   ]
  },
  {
   "cell_type": "code",
   "execution_count": null,
   "id": "193c3a9f-d805-409f-8f3e-6f1028c7ca82",
   "metadata": {},
   "outputs": [],
   "source": [
    "buyers = []\n",
    "for b_i in range(200):\n",
    "    distance_ = {}\n",
    "    for a_i in range(len(distances)):\n",
    "        distance_[f\"a_{a_i}\"] = np.abs(demand[b_i]-distances[a_i])\n",
    "    buyers.append(Buyer(f\"b_{b_i}\", distance_, beta=0.1))\n",
    "auctions = [Auction(f\"a_{i}\", prices[i]) for i in range(len(distances))]\n",
    "for a in auctions:\n",
    "    for b in buyers:\n",
    "        a.add_buyer(b)\n",
    "        b.inform_price(a.id, a.price)"
   ]
  },
  {
   "cell_type": "code",
   "execution_count": null,
   "id": "63272b7a-cbdf-447c-a1f5-03a656e425af",
   "metadata": {},
   "outputs": [],
   "source": [
    "results = run_auctions(auctions, buyers, 100*1001)"
   ]
  },
  {
   "cell_type": "code",
   "execution_count": null,
   "id": "375cd4cd-41d1-4e37-a7a4-53da95f888f3",
   "metadata": {},
   "outputs": [],
   "source": [
    "fig, ax = plot_position_price_results(results, buyers, distances, label=\"auctioned prices\")\n",
    "fig.set_figheight(4.3)\n",
    "bx = ax.twinx()\n",
    "bx.hist(demand, bins=50, alpha=0.2, color=\"k\", label=\"demand\")\n",
    "bx.set_yticks([])\n",
    "fig.legend(loc=\"upper right\",)# bbox_to_anchor=(.9,.85))"
   ]
  },
  {
   "cell_type": "code",
   "execution_count": null,
   "id": "606a9339-d9fd-435d-a6b7-6a791707b9d8",
   "metadata": {},
   "outputs": [],
   "source": [
    "import json\n",
    "with open(\"../03_results/ped_zone.json\", \"w\") as f:\n",
    "    json.dump(results, f)"
   ]
  },
  {
   "cell_type": "markdown",
   "id": "7d6408a5-8d03-447c-b364-8837fa12a263",
   "metadata": {},
   "source": [
    "#### $\\beta = 0.99$, various $p_v$s"
   ]
  },
  {
   "cell_type": "code",
   "execution_count": null,
   "id": "327ad099-ea20-4dd5-8abc-ae9baa5e0469",
   "metadata": {},
   "outputs": [],
   "source": [
    "distances = np.linspace(0, 16, 9)\n",
    "prices = np.linspace(20, 4, 9)\n",
    "\n",
    "plt.scatter(distances, prices, alpha=.66)\n",
    "plt.xlabel(\"distance\")\n",
    "plt.ylabel(\"price\")"
   ]
  },
  {
   "cell_type": "code",
   "execution_count": null,
   "id": "75b7769d-6aea-4ed7-b41d-8aa90ab53400",
   "metadata": {},
   "outputs": [],
   "source": [
    "buyers = []\n",
    "for b_i in range(12):\n",
    "    distance_ = {}\n",
    "    for a_i in range(len(distances)):\n",
    "        distance_[f\"a_{a_i}\"] = distances[a_i]\n",
    "    buyers.append(Buyer(f\"b_{b_i}\", distance_, beta=0.99, pv=(10+b_i*10), pvmax=(10+b_i*10)))\n",
    "auctions = [Auction(f\"a_{i}\", prices[i]) for i in range(len(distances))]\n",
    "for a in auctions:\n",
    "    for b in buyers:\n",
    "        a.add_buyer(b)\n",
    "        b.inform_price(a.id, a.price)"
   ]
  },
  {
   "cell_type": "code",
   "execution_count": null,
   "id": "bc662dcc-eda0-44c9-9e91-7a376b8e5f28",
   "metadata": {},
   "outputs": [],
   "source": [
    "results = run_auctions(auctions, buyers, 100*1001)"
   ]
  },
  {
   "cell_type": "code",
   "execution_count": null,
   "id": "f9ba10a5-be8d-4b36-a40c-23fad5c56fb6",
   "metadata": {},
   "outputs": [],
   "source": [
    "plot_dist_price_results(results, buyers)"
   ]
  },
  {
   "cell_type": "code",
   "execution_count": null,
   "id": "f8d2b568-c5d9-48e6-88cf-3e6c62f8a01e",
   "metadata": {},
   "outputs": [],
   "source": [
    "plot_utility(results, buyers, [0.99 for _ in range(9)])"
   ]
  },
  {
   "cell_type": "code",
   "execution_count": null,
   "id": "f1082194-fb23-4934-8b0d-be5567354ad9",
   "metadata": {},
   "outputs": [],
   "source": [
    "results"
   ]
  }
 ],
 "metadata": {
  "kernelspec": {
   "display_name": "Python 3 (ipykernel)",
   "language": "python",
   "name": "python3"
  },
  "language_info": {
   "codemirror_mode": {
    "name": "ipython",
    "version": 3
   },
   "file_extension": ".py",
   "mimetype": "text/x-python",
   "name": "python",
   "nbconvert_exporter": "python",
   "pygments_lexer": "ipython3",
   "version": "3.9.17"
  }
 },
 "nbformat": 4,
 "nbformat_minor": 5
}
