{
 "cells": [
  {
   "cell_type": "markdown",
   "id": "5ca7f3cd-0ed5-4c52-8116-e885e58022ef",
   "metadata": {},
   "source": [
    "# **Check results**"
   ]
  },
  {
   "cell_type": "code",
   "execution_count": null,
   "id": "d3636459-8650-41d6-9ed7-f068669eb172",
   "metadata": {},
   "outputs": [],
   "source": [
    "import numpy as np\n",
    "import pandas as pd\n",
    "\n",
    "import matplotlib.pyplot as plt\n",
    "\n",
    "import json"
   ]
  },
  {
   "cell_type": "code",
   "execution_count": null,
   "id": "3a5409e2-04f9-4eb7-b1e2-c280034457c3",
   "metadata": {},
   "outputs": [],
   "source": [
    "SEEDS = ['42', '1234', '1867', '613', '1001']\n",
    "BETAS = [\"10\", \"90\", \"50\", \"MIX\"]\n",
    "RESULTS_ROOT = \"../03_results/\""
   ]
  },
  {
   "cell_type": "code",
   "execution_count": null,
   "id": "b1c7ad71-2e05-426c-a12b-4c9732fe5f28",
   "metadata": {},
   "outputs": [],
   "source": [
    "parking_events = pd.read_xml(\"../03_results/test/stop_data.out.xml\", xpath=\"stopinfo\")\n",
    "\n",
    "with open(\"../03_results/test/auction_results.json\") as f:\n",
    "    auction_results = json.load(f)"
   ]
  },
  {
   "cell_type": "code",
   "execution_count": null,
   "id": "fcee3622-8a6e-4976-8746-b9a10eddf73a",
   "metadata": {},
   "outputs": [],
   "source": [
    "parking_events = parking_events.sort_values(by=\"started\", ignore_index=True)"
   ]
  },
  {
   "cell_type": "code",
   "execution_count": null,
   "id": "ac169d9b-715a-4363-a47e-44699422e05f",
   "metadata": {},
   "outputs": [],
   "source": [
    "parking_events"
   ]
  },
  {
   "cell_type": "code",
   "execution_count": null,
   "id": "624cfd26-6d11-412a-8281-4d9c0b7e8cd7",
   "metadata": {},
   "outputs": [],
   "source": [
    "auction_results[\"outcomes\"][:5]"
   ]
  },
  {
   "cell_type": "code",
   "execution_count": null,
   "id": "f3e2bf92-f33f-41e8-954e-5f7a15c7c441",
   "metadata": {},
   "outputs": [],
   "source": [
    "idx = 2\n",
    "time = auction_results[\"outcomes\"][idx][\"time\"]\n",
    "vehicle = auction_results[\"outcomes\"][idx][\"vehicle\"]\n",
    "parking_filt = parking_events[parking_events[\"id\"] == vehicle]\n",
    "parking_filt[parking_filt[\"started\"] >= time].iloc[0]"
   ]
  },
  {
   "cell_type": "code",
   "execution_count": null,
   "id": "94cdc795-ea50-46ab-bc52-d5129ce343dc",
   "metadata": {},
   "outputs": [],
   "source": [
    "prices = []\n",
    "distances = []\n",
    "g_prices = []\n",
    "g_distances = []\n",
    "max_time = parking_events[\"ended\"].max()\n",
    "\n",
    "for ar in auction_results[\"outcomes\"]:\n",
    "    parking_filt = parking_events[parking_events[\"id\"] == ar[\"vehicle\"]]\n",
    "    parking_filt = parking_filt[parking_filt[\"started\"] >= time]\n",
    "    if len(parking_filt) > 0:\n",
    "        if \"garage\" in ar[\"auction_id\"]:\n",
    "            g_prices.append(1000)\n",
    "            g_distances.append(ar[\"distance\"])\n",
    "        else:\n",
    "            pe = parking_filt.iloc[0]\n",
    "            prices.append(np.ceil((pe.ended - pe.started)/3600)*ar[\"price\"])\n",
    "            distances.append(ar[\"distance\"])"
   ]
  },
  {
   "cell_type": "code",
   "execution_count": null,
   "id": "f17337fa-fb37-4af6-ae99-d7d500ebacaa",
   "metadata": {},
   "outputs": [],
   "source": [
    "plt.scatter(distances, prices, alpha=0.25, marker=\"o\", label=\"curbside\")\n",
    "plt.scatter(g_distances, g_prices, alpha=0.5, marker=\"x\", label=\"curbside\")\n",
    "plt.legend()"
   ]
  },
  {
   "cell_type": "code",
   "execution_count": null,
   "id": "239113cf-2b1f-4162-9a97-39e734a3dbc7",
   "metadata": {},
   "outputs": [],
   "source": [
    "np.mean(distances), np.mean(prices)"
   ]
  },
  {
   "cell_type": "code",
   "execution_count": null,
   "id": "4d1b62b9-803f-43b4-9917-b70eb13efa06",
   "metadata": {},
   "outputs": [],
   "source": [
    "np.std(distances), np.std(prices)"
   ]
  }
 ],
 "metadata": {
  "kernelspec": {
   "display_name": "Python 3 (ipykernel)",
   "language": "python",
   "name": "python3"
  },
  "language_info": {
   "codemirror_mode": {
    "name": "ipython",
    "version": 3
   },
   "file_extension": ".py",
   "mimetype": "text/x-python",
   "name": "python",
   "nbconvert_exporter": "python",
   "pygments_lexer": "ipython3",
   "version": "3.9.17"
  }
 },
 "nbformat": 4,
 "nbformat_minor": 5
}
