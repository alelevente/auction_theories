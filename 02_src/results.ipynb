{
 "cells": [
  {
   "cell_type": "markdown",
   "id": "5ca7f3cd-0ed5-4c52-8116-e885e58022ef",
   "metadata": {},
   "source": [
    "# **Check results**"
   ]
  },
  {
   "cell_type": "code",
   "execution_count": null,
   "id": "d3636459-8650-41d6-9ed7-f068669eb172",
   "metadata": {},
   "outputs": [],
   "source": [
    "import numpy as np\n",
    "import pandas as pd\n",
    "\n",
    "import matplotlib.pyplot as plt\n",
    "\n",
    "import json"
   ]
  },
  {
   "cell_type": "code",
   "execution_count": null,
   "id": "3a5409e2-04f9-4eb7-b1e2-c280034457c3",
   "metadata": {},
   "outputs": [],
   "source": [
    "SEEDS = ['42', '1234', '1867', '613', '1001']\n",
    "BETAS = [\"10\", \"90\", \"50\", \"MIX\"]\n",
    "RESULTS_ROOT = \"../03_results\""
   ]
  },
  {
   "cell_type": "code",
   "execution_count": null,
   "id": "8827d75c-d3a3-44c1-a0b7-681b7340aa51",
   "metadata": {},
   "outputs": [],
   "source": [
    "def get_outcomes(meas_name):\n",
    "    meas_path = f\"{RESULTS_ROOT}/{meas_name}\"\n",
    "    parking_events = pd.read_xml(f\"{meas_path}/stop_data.out.xml\", xpath=\"stopinfo\")\n",
    "    parking_events = parking_events.sort_values(by=\"started\", ignore_index=True)\n",
    "    \n",
    "    with open(f\"{meas_path}/auction_results.json\") as f:\n",
    "        auction_results = json.load(f)\n",
    "    \n",
    "    prices = []\n",
    "    distances = []\n",
    "    auction_prices = []\n",
    "    garages = 0\n",
    "\n",
    "    for ar in auction_results[\"outcomes\"]:\n",
    "        parking_filt = parking_events[parking_events[\"id\"] == ar[\"vehicle\"]]\n",
    "        parking_filt = parking_filt[parking_filt[\"started\"] >= ar[\"time\"]]\n",
    "        if len(parking_filt) > 0:\n",
    "            if \"garage\" in ar[\"auction_id\"]:\n",
    "                garages += 1\n",
    "            else:\n",
    "                pe = parking_filt.iloc[0]\n",
    "                prices.append(np.ceil((pe.ended - pe.started)/3600)*ar[\"price\"])\n",
    "                auction_prices.append(ar[\"price\"])\n",
    "                distances.append(ar[\"distance\"])\n",
    "                \n",
    "    answer = {\n",
    "        \"prices\": prices,\n",
    "        \"auction_prices\": auction_prices,\n",
    "        \"distances\": distances,\n",
    "        \"garages\": garages,\n",
    "        \"n_auctions\": len(auction_results[\"outcomes\"])\n",
    "    }\n",
    "    return answer"
   ]
  },
  {
   "cell_type": "code",
   "execution_count": null,
   "id": "fcee3622-8a6e-4976-8746-b9a10eddf73a",
   "metadata": {},
   "outputs": [],
   "source": [
    "BETA = 10"
   ]
  },
  {
   "cell_type": "code",
   "execution_count": null,
   "id": "2b4d48ef-e507-4257-b4e6-5f6598ca704e",
   "metadata": {},
   "outputs": [],
   "source": [
    "prices, distances, auction_prices = [], [], []\n",
    "garages = []\n",
    "\n",
    "for seed in SEEDS:\n",
    "    outcomes = get_outcomes(f\"beta{BETA}_{seed}\")\n",
    "    prices = prices + outcomes[\"prices\"]\n",
    "    distances = distances + outcomes[\"distances\"]\n",
    "    auction_prices = auction_prices + outcomes[\"auction_prices\"]\n",
    "    garages = garages + [outcomes[\"garages\"]/outcomes[\"n_auctions\"]]"
   ]
  },
  {
   "cell_type": "code",
   "execution_count": null,
   "id": "f17337fa-fb37-4af6-ae99-d7d500ebacaa",
   "metadata": {},
   "outputs": [],
   "source": [
    "plt.scatter(distances, prices, alpha=0.25, marker=\"o\", label=\"curbside\")\n",
    "plt.legend()"
   ]
  },
  {
   "cell_type": "code",
   "execution_count": null,
   "id": "239113cf-2b1f-4162-9a97-39e734a3dbc7",
   "metadata": {},
   "outputs": [],
   "source": [
    "np.mean(distances), np.mean(prices), np.mean(auction_prices), np.mean(garages)"
   ]
  }
 ],
 "metadata": {
  "kernelspec": {
   "display_name": "Python 3 (ipykernel)",
   "language": "python",
   "name": "python3"
  },
  "language_info": {
   "codemirror_mode": {
    "name": "ipython",
    "version": 3
   },
   "file_extension": ".py",
   "mimetype": "text/x-python",
   "name": "python",
   "nbconvert_exporter": "python",
   "pygments_lexer": "ipython3",
   "version": "3.8.18"
  }
 },
 "nbformat": 4,
 "nbformat_minor": 5
}
