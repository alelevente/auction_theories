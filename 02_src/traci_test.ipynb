{
 "cells": [
  {
   "cell_type": "markdown",
   "id": "b5341306-e98d-4b01-80fb-624d19e5ee0e",
   "metadata": {},
   "source": [
    "# **Running Auctions for the SUMO Simulation**"
   ]
  },
  {
   "cell_type": "code",
   "execution_count": null,
   "id": "5e08abcd-c916-4646-8ea7-e0a8349236b8",
   "metadata": {},
   "outputs": [],
   "source": [
    "SCENARIO_PATH = \"../01_simulation/stable.sumocfg\"\n",
    "SEEDS = ['42', '1234', '1867', '613', '1001']\n",
    "STABLE_STATES_ROOT = \"../01_simulation/stable_states/\""
   ]
  },
  {
   "cell_type": "code",
   "execution_count": null,
   "id": "9cc3b174-a18f-4989-ad19-32913a067d9f",
   "metadata": {},
   "outputs": [],
   "source": [
    "import numpy as np\n",
    "import pandas as pd\n",
    "\n",
    "import json"
   ]
  },
  {
   "cell_type": "code",
   "execution_count": null,
   "id": "53397915-fed5-490f-b2a6-950db8e878f5",
   "metadata": {},
   "outputs": [],
   "source": [
    "import os, sys\n",
    "import traci\n",
    "\n",
    "SUMO_HOME = os.environ[\"SUMO_HOME\"] #locating the simulator\n",
    "sys.path.append(SUMO_HOME+\"/tools\")\n",
    "\n",
    "import sumolib\n",
    "from importlib import reload\n",
    "import traci.constants as tc"
   ]
  },
  {
   "cell_type": "code",
   "execution_count": null,
   "id": "f478db97-1b3a-4a03-a9e4-98e433cac5fc",
   "metadata": {},
   "outputs": [],
   "source": [
    "seed = SEEDS[1]\n",
    "sumo_cmd = [\"sumo\", \"-c\", SCENARIO_PATH, \"--seed\", str(seed),\n",
    "            \"--no-step-log\", \"--load-state\",\n",
    "            f'{STABLE_STATES_ROOT}stable{seed}.xml']\n",
    "traci.start(sumo_cmd)"
   ]
  },
  {
   "cell_type": "code",
   "execution_count": null,
   "id": "0f41ba06-4670-4556-8e5f-db4512ac6b03",
   "metadata": {},
   "outputs": [],
   "source": [
    "end_time = traci.simulation.getEndTime()"
   ]
  },
  {
   "cell_type": "code",
   "execution_count": null,
   "id": "37d62898-1015-4da6-bd83-1bf083cafc0f",
   "metadata": {},
   "outputs": [],
   "source": [
    "traci.simulation.getTime()"
   ]
  },
  {
   "cell_type": "code",
   "execution_count": null,
   "id": "b5e72388-6b8d-4141-afa1-1b3ac7694757",
   "metadata": {},
   "outputs": [],
   "source": [
    "traci.vehicle.getNextStops(\"h1005c1:0\")[0]"
   ]
  },
  {
   "cell_type": "code",
   "execution_count": null,
   "id": "42f62773-7f45-4613-8cc9-017aa66f0616",
   "metadata": {},
   "outputs": [],
   "source": [
    "traci.vehicle.getStops(\"h1005c1:0\")"
   ]
  },
  {
   "cell_type": "code",
   "execution_count": null,
   "id": "585bf74e-bba0-4a84-99ef-08f056a3b5b0",
   "metadata": {},
   "outputs": [],
   "source": [
    "time = traci.simulation.getTime()\n",
    "traci.simulationStep(time+1)\n",
    "traci.vehicle.getStops(\"h1005c1:0\")"
   ]
  },
  {
   "cell_type": "code",
   "execution_count": null,
   "id": "feb46e80-4ea1-4f31-abc2-458fb62a09cb",
   "metadata": {},
   "outputs": [],
   "source": [
    "traci.vehicle.isStoppedParking(\"h1005c1:0\")"
   ]
  },
  {
   "cell_type": "code",
   "execution_count": null,
   "id": "6866fa2a-c92a-462b-a575-17bc486238da",
   "metadata": {},
   "outputs": [],
   "source": [
    "traci.vehicle.replaceStop(\"h1005c1:0\", 1, \"123\", duration=30000)"
   ]
  },
  {
   "cell_type": "code",
   "execution_count": null,
   "id": "f121494c-5222-48ab-9f39-b42209fe8182",
   "metadata": {},
   "outputs": [],
   "source": [
    "traci.vehicle.getIDList()"
   ]
  },
  {
   "cell_type": "code",
   "execution_count": null,
   "id": "2c92acbc-4a6f-4cbd-9015-f824d52fdf52",
   "metadata": {},
   "outputs": [],
   "source": [
    "%%time\n",
    "\n",
    "while (traci.simulation.getTime()<end_time):\n",
    "    traci.simulationStep()"
   ]
  },
  {
   "cell_type": "code",
   "execution_count": null,
   "id": "c8a0932e-47ce-4aad-8ff9-71f7721777c0",
   "metadata": {},
   "outputs": [],
   "source": [
    "traci.close()"
   ]
  }
 ],
 "metadata": {
  "kernelspec": {
   "display_name": "Python 3 (ipykernel)",
   "language": "python",
   "name": "python3"
  },
  "language_info": {
   "codemirror_mode": {
    "name": "ipython",
    "version": 3
   },
   "file_extension": ".py",
   "mimetype": "text/x-python",
   "name": "python",
   "nbconvert_exporter": "python",
   "pygments_lexer": "ipython3",
   "version": "3.9.17"
  }
 },
 "nbformat": 4,
 "nbformat_minor": 5
}
