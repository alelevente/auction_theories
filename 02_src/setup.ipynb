{
 "cells": [
  {
   "cell_type": "code",
   "execution_count": null,
   "id": "b08b481d-b8be-429c-b483-7e2bd5e6ddad",
   "metadata": {},
   "outputs": [],
   "source": [
    "import pandas as pd\n",
    "\n",
    "import json"
   ]
  },
  {
   "cell_type": "code",
   "execution_count": null,
   "id": "c85e2b57-6e3d-4bbf-a2a0-1cc874664146",
   "metadata": {},
   "outputs": [],
   "source": [
    "SEEDS = ['42', '1234', '1867', '613', '1001']"
   ]
  },
  {
   "cell_type": "code",
   "execution_count": null,
   "id": "df463706-7893-4e79-9482-e1c75b769205",
   "metadata": {},
   "outputs": [],
   "source": [
    "for seed in SEEDS:\n",
    "    !sumo -c ../01_simulation/burnin.sumocfg --seed {seed} --no-step-log --save-state.times 345600 --save-state.files ../01_simulation/stable_states/stable{seed}.xml"
   ]
  },
  {
   "cell_type": "code",
   "execution_count": null,
   "id": "d54d9d6a-4572-4b0c-a9f6-6acba41ec949",
   "metadata": {},
   "outputs": [],
   "source": [
    "parking_df = pd.read_xml(\"../01_simulation/parking_areas.add.xml\", xpath=\"parkingArea\")"
   ]
  },
  {
   "cell_type": "code",
   "execution_count": null,
   "id": "bcf16036-33fa-43fa-b54a-215478f9ad4e",
   "metadata": {},
   "outputs": [],
   "source": [
    "starting_prices = {}"
   ]
  },
  {
   "cell_type": "code",
   "execution_count": null,
   "id": "5edf85dd-9b75-4dbc-a9ff-ea310d1239ef",
   "metadata": {},
   "outputs": [],
   "source": [
    "for p in parking_df[\"id\"]:\n",
    "    if \"garage\" in p:\n",
    "        starting_prices[p] = 1000\n",
    "    else:\n",
    "        starting_prices[p] = 50"
   ]
  },
  {
   "cell_type": "code",
   "execution_count": null,
   "id": "39e4a387-5ea4-428c-a320-8c9a8416fd2e",
   "metadata": {},
   "outputs": [],
   "source": [
    "with open(\"../01_simulation/starting_prices.json\", \"w\") as f:\n",
    "    json.dump(starting_prices, f)"
   ]
  }
 ],
 "metadata": {
  "kernelspec": {
   "display_name": "Python 3 (ipykernel)",
   "language": "python",
   "name": "python3"
  },
  "language_info": {
   "codemirror_mode": {
    "name": "ipython",
    "version": 3
   },
   "file_extension": ".py",
   "mimetype": "text/x-python",
   "name": "python",
   "nbconvert_exporter": "python",
   "pygments_lexer": "ipython3",
   "version": "3.9.17"
  }
 },
 "nbformat": 4,
 "nbformat_minor": 5
}
